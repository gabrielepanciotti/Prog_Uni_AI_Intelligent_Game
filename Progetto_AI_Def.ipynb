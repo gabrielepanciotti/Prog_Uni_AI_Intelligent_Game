{
  "nbformat": 4,
  "nbformat_minor": 0,
  "metadata": {
    "colab": {
      "provenance": []
    },
    "kernelspec": {
      "name": "python3",
      "display_name": "Python 3"
    },
    "language_info": {
      "name": "python"
    }
  },
  "cells": [
    {
      "cell_type": "code",
      "execution_count": null,
      "metadata": {
        "id": "X35dJOXQXngF",
        "colab": {
          "base_uri": "https://localhost:8080/"
        },
        "outputId": "1a8f707e-8858-4215-d975-87dd433b5c4f"
      },
      "outputs": [
        {
          "output_type": "stream",
          "name": "stdout",
          "text": [
            "Looking in indexes: https://pypi.org/simple, https://us-python.pkg.dev/colab-wheels/public/simple/\n",
            "Collecting emnist\n",
            "  Downloading emnist-0.0-py3-none-any.whl (7.3 kB)\n",
            "Requirement already satisfied: requests in /usr/local/lib/python3.7/dist-packages (from emnist) (2.23.0)\n",
            "Requirement already satisfied: tqdm in /usr/local/lib/python3.7/dist-packages (from emnist) (4.64.1)\n",
            "Requirement already satisfied: numpy in /usr/local/lib/python3.7/dist-packages (from emnist) (1.21.6)\n",
            "Requirement already satisfied: urllib3!=1.25.0,!=1.25.1,<1.26,>=1.21.1 in /usr/local/lib/python3.7/dist-packages (from requests->emnist) (1.24.3)\n",
            "Requirement already satisfied: chardet<4,>=3.0.2 in /usr/local/lib/python3.7/dist-packages (from requests->emnist) (3.0.4)\n",
            "Requirement already satisfied: idna<3,>=2.5 in /usr/local/lib/python3.7/dist-packages (from requests->emnist) (2.10)\n",
            "Requirement already satisfied: certifi>=2017.4.17 in /usr/local/lib/python3.7/dist-packages (from requests->emnist) (2022.9.24)\n",
            "Installing collected packages: emnist\n",
            "Successfully installed emnist-0.0\n"
          ]
        }
      ],
      "source": [
        "!pip install emnist"
      ]
    },
    {
      "cell_type": "markdown",
      "source": [
        "Upload Dataset"
      ],
      "metadata": {
        "id": "Rfi7yZi_d_Ez"
      }
    },
    {
      "cell_type": "code",
      "source": [
        "from emnist import list_datasets\n",
        "import numpy as np\n",
        "from emnist import extract_training_samples, extract_test_samples\n",
        "import matplotlib.pyplot as plt\n",
        "\n",
        "list_datasets()\n",
        "#estrae dal dataset di training immagini con label appartenente alle lettere\n",
        "images_training, labels_training = extract_training_samples('letters')\n",
        "\n",
        "print(\"Data Training:\")\n",
        "print(\"(Numero elementi, altezza, larghezza) : \"+str(images_training.shape))\n",
        "print(\"Numero elementi : \"+str(labels_training.shape))\n",
        "print(\"Numero labels : \"+str(len(np.unique(labels_training))))\n",
        "\n",
        "#estrae dal dataset di testing immagini con label appartenente alle lettere\n",
        "images_testing, labels_testing = extract_test_samples('letters')\n",
        "\n",
        "print(\"Data Testing:\")\n",
        "print(\"(Numero elementi, altezza, larghezza) : \"+str(images_testing.shape))\n",
        "print(\"Numero elementi : \"+str(labels_testing.shape))\n",
        "print(\"Numero labels : \"+str(len(np.unique(labels_testing))))\n",
        "\n",
        "#for i in range(100):\n",
        "#  print(\"Label n.\"+str(i)+\" : \"+str(labels_training[i]))"
      ],
      "metadata": {
        "colab": {
          "base_uri": "https://localhost:8080/"
        },
        "id": "zhdV4lMFYVuz",
        "outputId": "910235b7-0d09-4e5d-b4ac-10384f3e8b9f"
      },
      "execution_count": null,
      "outputs": [
        {
          "output_type": "stream",
          "name": "stderr",
          "text": [
            "Downloading emnist.zip: 536MB [00:12, 44.5MB/s]\n"
          ]
        },
        {
          "output_type": "stream",
          "name": "stdout",
          "text": [
            "Data Training:\n",
            "(Numero elementi, altezza, larghezza) : (124800, 28, 28)\n",
            "Numero elementi : (124800,)\n",
            "Numero labels : 26\n",
            "Data Testing:\n",
            "(Numero elementi, altezza, larghezza) : (20800, 28, 28)\n",
            "Numero elementi : (20800,)\n",
            "Numero labels : 26\n"
          ]
        }
      ]
    },
    {
      "cell_type": "markdown",
      "source": [
        "Visualizzazioni immagini di training e di test"
      ],
      "metadata": {
        "id": "zRqmI8whenzL"
      }
    },
    {
      "cell_type": "code",
      "source": [
        "#Visualization of the images of Training:\n",
        "import matplotlib.pyplot as plt\n",
        "plt.figure(figsize=(10,10))\n",
        "images_training = images_training.reshape(images_training.shape[0],28,28)\n",
        "for i,image in enumerate(images_training[0:100]):    \n",
        "    plt.subplot(10,10,i+1)\n",
        "    plt.xticks([])\n",
        "    plt.yticks([])\n",
        "    plt.grid(False)\n",
        "    plt.imshow(image, cmap=plt.cm.binary)\n",
        "\n",
        "plt.show()"
      ],
      "metadata": {
        "id": "iA8tTtFQdyb6"
      },
      "execution_count": null,
      "outputs": []
    },
    {
      "cell_type": "code",
      "source": [
        "#Visualization of the images of Testing:\n",
        "import matplotlib.pyplot as plt\n",
        "plt.figure(figsize=(10,10))\n",
        "images_testing = images_testing.reshape(images_testing.shape[0],28,28)\n",
        "for i,image in enumerate(images_testing[0:25]):    \n",
        "    plt.subplot(5,5,i+1)\n",
        "    plt.xticks([])\n",
        "    plt.yticks([])\n",
        "    plt.grid(False)\n",
        "    plt.imshow(image, cmap=plt.cm.binary)\n",
        "plt.show()\n",
        "for i,image in enumerate(images_testing[800:825]):    \n",
        "    plt.subplot(5,5,i+1)\n",
        "    plt.xticks([])\n",
        "    plt.yticks([])\n",
        "    plt.grid(False)\n",
        "    plt.imshow(image, cmap=plt.cm.binary)\n",
        "plt.show()\n",
        "for i,image in enumerate(images_testing[1600:1625]):    \n",
        "    plt.subplot(5,5,i+1)\n",
        "    plt.xticks([])\n",
        "    plt.yticks([])\n",
        "    plt.grid(False)\n",
        "    plt.imshow(image, cmap=plt.cm.binary)\n",
        "plt.show()\n",
        "for i,image in enumerate(images_testing[2400:2425]):    \n",
        "    plt.subplot(5,5,i+1)\n",
        "    plt.xticks([])\n",
        "    plt.yticks([])\n",
        "    plt.grid(False)\n",
        "    plt.imshow(image, cmap=plt.cm.binary)\n",
        "plt.show()"
      ],
      "metadata": {
        "id": "70KSFddAd3tt"
      },
      "execution_count": null,
      "outputs": []
    },
    {
      "cell_type": "markdown",
      "source": [
        "Riduci dimensione dataset"
      ],
      "metadata": {
        "id": "c0JQ8FOTfsMR"
      }
    },
    {
      "cell_type": "code",
      "source": [
        "LABELS = ['','A', 'B', 'C', 'D', 'E', 'F', 'G', 'H', 'I', 'J', 'K', 'L', 'M', 'N', 'O', 'P', 'Q', 'R', 'S', 'T', 'U', 'V', 'W', 'X', 'Y', 'Z']\n",
        "\n",
        "def filterDataset(images, labels):\n",
        "  assert labels.dtype == np.uint8\n",
        "  classes = LABELS\n",
        "  new_data_size = 0\n",
        "  for i in range(0, labels.shape[0]):\n",
        "    currentLabel = classes[labels[i]]\n",
        "    if currentLabel == 'B' or currentLabel == 'Y' or currentLabel == 'G' or currentLabel == 'T':\n",
        "      new_data_size += 1\n",
        "\n",
        "  new_images = np.zeros((new_data_size, 28, 28), dtype = images.dtype)\n",
        "  new_labels = np.zeros((new_data_size,), dtype = np.uint8)\n",
        "    \n",
        "  new_data_index = 0\n",
        "  for i in range(0, labels.shape[0]):\n",
        "    currentLabel = classes[labels[i]]\n",
        "\n",
        "    if currentLabel != 'B' and currentLabel != 'Y' and currentLabel != 'G' and currentLabel != 'T':\n",
        "      continue\n",
        "        \n",
        "    new_images[new_data_index] = images[i]\n",
        "    new_labels[new_data_index] = labels[i]\n",
        "    new_data_index += 1\n",
        "    \n",
        "  assert new_data_index == new_images.shape[0]\n",
        "  return (new_images, new_labels)\n",
        "  \n",
        "def remodulate(y):\n",
        "  y = np.where( y == LABELS.index(\"T\"), 0, y) #T\n",
        "  y = np.where( y == LABELS.index(\"B\"), 1, y) #BLUE\n",
        "  y = np.where( y == LABELS.index(\"Y\"), 2, y) #YELLOW\n",
        "  y = np.where( y == LABELS.index(\"G\"), 3, y) #GREEN\n",
        "  return y\n",
        "\n",
        "def label(i):\n",
        "  if i == 0 : return \"T\"\n",
        "  if i == 1 : return \"B\"\n",
        "  if i == 2 : return \"Y\"\n",
        "  if i == 3 : return \"G\"\n",
        "\n",
        "def num(i):\n",
        "  if i == \"T\" : return 0\n",
        "  if i == \"B\" : return 1 \n",
        "  if i == \"Y\" : return 2\n",
        "  if i == \"G\" : return 3 "
      ],
      "metadata": {
        "id": "CRLmZsiKfy-5"
      },
      "execution_count": null,
      "outputs": []
    },
    {
      "cell_type": "code",
      "source": [
        "print(labels_training)\n",
        "print(labels_testing)\n",
        "(images_training, labels_training) = filterDataset(images_training, labels_training)\n",
        "(images_testing, labels_testing) = filterDataset(images_testing, labels_testing)\n",
        "print(labels_training)\n",
        "print(labels_testing)\n",
        "labels_training = remodulate(labels_training)\n",
        "labels_testing = remodulate(labels_testing)\n",
        "\n",
        "images_training = images_training.astype(\"float32\") / 255\n",
        "images_testing = images_testing.astype(\"float32\") / 255"
      ],
      "metadata": {
        "id": "1xDsMQVch4OI",
        "colab": {
          "base_uri": "https://localhost:8080/"
        },
        "outputId": "f0e04361-6e67-41d3-bd87-1d10b8970d71"
      },
      "execution_count": null,
      "outputs": [
        {
          "output_type": "stream",
          "name": "stdout",
          "text": [
            "[23  7 16 ... 13 15 19]\n",
            "[ 1  1  1 ... 26 26 26]\n",
            "[ 7  2 25 ...  2  7  2]\n",
            "[ 2  2  2 ... 25 25 25]\n"
          ]
        }
      ]
    },
    {
      "cell_type": "markdown",
      "source": [
        "Visualizzazione"
      ],
      "metadata": {
        "id": "mGXlZajmvzZq"
      }
    },
    {
      "cell_type": "code",
      "source": [
        "print(\"Data Training:\")\n",
        "print(\"Numero elementi : \"+str(labels_training.shape))\n",
        "print(\"Numero labels : \"+str(len(np.unique(labels_training))))\n",
        "\n",
        "print(\"Data Testing:\")\n",
        "print(\"Numero elementi : \"+str(labels_testing.shape))\n",
        "print(\"Numero labels : \"+str(len(np.unique(labels_testing))))\n",
        "\n",
        "for i in range(len(labels_testing)):\n",
        "  print(\"Label n.\"+str(i)+\" : \"+label(labels_testing[i]))\n",
        "#print(labels_training)\n",
        "#print(labels_testing)\n",
        "#printImage(images_training)\n",
        "#printImage(images_testing,400,20,20)"
      ],
      "metadata": {
        "id": "PTt3aVwhXl25"
      },
      "execution_count": null,
      "outputs": []
    },
    {
      "cell_type": "code",
      "source": [
        "#Visualization of the images of Training:\n",
        "import matplotlib.pyplot as plt\n",
        "plt.figure(figsize=(10,10))\n",
        "images_training = images_training.reshape(images_training.shape[0],28,28)\n",
        "for i,image in enumerate(images_training[0:100]):    \n",
        "    plt.subplot(10,10,i+1)\n",
        "    plt.xticks([])\n",
        "    plt.yticks([])\n",
        "    plt.grid(False)\n",
        "    plt.imshow(image, cmap=plt.cm.binary)\n",
        "\n",
        "plt.show()"
      ],
      "metadata": {
        "id": "rH5ikvx_dWSd"
      },
      "execution_count": null,
      "outputs": []
    },
    {
      "cell_type": "code",
      "source": [
        "#Visualization of the images of Testing:\n",
        "import matplotlib.pyplot as plt\n",
        "plt.figure(figsize=(10,10))\n",
        "images_testing = images_testing.reshape(images_testing.shape[0],28,28)\n",
        "for i,image in enumerate(images_testing[0:25]):    \n",
        "    plt.subplot(5,5,i+1)\n",
        "    plt.xticks([])\n",
        "    plt.yticks([])\n",
        "    plt.grid(False)\n",
        "    plt.imshow(image, cmap=plt.cm.binary)\n",
        "plt.show()\n",
        "for i,image in enumerate(images_testing[800:825]):    \n",
        "    plt.subplot(5,5,i+1)\n",
        "    plt.xticks([])\n",
        "    plt.yticks([])\n",
        "    plt.grid(False)\n",
        "    plt.imshow(image, cmap=plt.cm.binary)\n",
        "plt.show()\n",
        "for i,image in enumerate(images_testing[1600:1625]):    \n",
        "    plt.subplot(5,5,i+1)\n",
        "    plt.xticks([])\n",
        "    plt.yticks([])\n",
        "    plt.grid(False)\n",
        "    plt.imshow(image, cmap=plt.cm.binary)\n",
        "plt.show()\n",
        "for i,image in enumerate(images_testing[2400:2425]):    \n",
        "    plt.subplot(5,5,i+1)\n",
        "    plt.xticks([])\n",
        "    plt.yticks([])\n",
        "    plt.grid(False)\n",
        "    plt.imshow(image, cmap=plt.cm.binary)\n",
        "plt.show()"
      ],
      "metadata": {
        "id": "xmCwyu5YfB7j"
      },
      "execution_count": null,
      "outputs": []
    },
    {
      "cell_type": "markdown",
      "source": [
        "Reshape"
      ],
      "metadata": {
        "id": "jtW959TokKlJ"
      }
    },
    {
      "cell_type": "code",
      "source": [
        "feature_vector_length = 784\n",
        "images_training = images_training.reshape(images_training.shape[0],feature_vector_length)\n",
        "images_testing = images_testing.reshape(images_testing.shape[0],feature_vector_length)\n",
        "\n",
        "#minmax x-min/(max-min)\n",
        "#images_training = (images_training.astype(\"float32\")-np.min(images_training))/(np.max(images_training)-np.min(images_training))\n",
        "#images_testing = (images_testing.astype(\"float32\")-np.min(images_testing))/(np.max(images_testing)-np.min(images_testing))\n",
        "\n",
        "#print(\"===Dopo minmax===\")\n",
        "#print(images_training[0])"
      ],
      "metadata": {
        "id": "FfheZ_nskPfD"
      },
      "execution_count": null,
      "outputs": []
    },
    {
      "cell_type": "markdown",
      "source": [
        "# **Modello 3 Layer Nascosti**"
      ],
      "metadata": {
        "id": "a8tKmIvRle2D"
      }
    },
    {
      "cell_type": "code",
      "source": [
        "from tensorflow import keras\n",
        "from tensorflow.keras import layers\n",
        "num_classes = 4\n",
        "\n",
        "#add more layers\n",
        "model  = keras.Sequential()\n",
        "model.add(layers.Dense(512 ,activation = \"relu\",input_shape = (784,)))\n",
        "model.add(layers.Dense(256, activation = \"relu\"))\n",
        "model.add(layers.Dense(num_classes, activation = \"softmax\"))\n",
        "\n",
        "batch_size = 128\n",
        "epochs = 15\n",
        "#crossentropy\n",
        "\n",
        "#feature_vector_length = 784\n",
        "#images_training = images_training.reshape(images_training.shape[0],feature_vector_length)\n",
        "#images_testing = images_testing.reshape(images_testing.shape[0],feature_vector_length)\n",
        "\n",
        "model.compile(loss=\"sparse_categorical_crossentropy\", optimizer=\"adam\", metrics=[\"accuracy\"])\n",
        "\n",
        "history1 = model.fit(images_training, labels_training, batch_size=batch_size, epochs=epochs, validation_split=0.1)\n",
        "model.save(\"model.h5\")"
      ],
      "metadata": {
        "id": "wYwWMXIzlfSn",
        "colab": {
          "base_uri": "https://localhost:8080/"
        },
        "outputId": "ebd9a145-77ed-4e8c-8be6-3d9afd3a80c3"
      },
      "execution_count": null,
      "outputs": [
        {
          "output_type": "stream",
          "name": "stdout",
          "text": [
            "Epoch 1/15\n",
            "135/135 [==============================] - 3s 14ms/step - loss: 0.2780 - accuracy: 0.9027 - val_loss: 0.1372 - val_accuracy: 0.9568\n",
            "Epoch 2/15\n",
            "135/135 [==============================] - 2s 12ms/step - loss: 0.1030 - accuracy: 0.9666 - val_loss: 0.1060 - val_accuracy: 0.9651\n",
            "Epoch 3/15\n",
            "135/135 [==============================] - 2s 13ms/step - loss: 0.0606 - accuracy: 0.9806 - val_loss: 0.1175 - val_accuracy: 0.9599\n",
            "Epoch 4/15\n",
            "135/135 [==============================] - 2s 13ms/step - loss: 0.0426 - accuracy: 0.9858 - val_loss: 0.1344 - val_accuracy: 0.9604\n",
            "Epoch 5/15\n",
            "135/135 [==============================] - 2s 12ms/step - loss: 0.0287 - accuracy: 0.9904 - val_loss: 0.0906 - val_accuracy: 0.9760\n",
            "Epoch 6/15\n",
            "135/135 [==============================] - 2s 13ms/step - loss: 0.0235 - accuracy: 0.9918 - val_loss: 0.1007 - val_accuracy: 0.9750\n",
            "Epoch 7/15\n",
            "135/135 [==============================] - 2s 13ms/step - loss: 0.0124 - accuracy: 0.9969 - val_loss: 0.1051 - val_accuracy: 0.9734\n",
            "Epoch 8/15\n",
            "135/135 [==============================] - 2s 12ms/step - loss: 0.0126 - accuracy: 0.9956 - val_loss: 0.1021 - val_accuracy: 0.9734\n",
            "Epoch 9/15\n",
            "135/135 [==============================] - 2s 13ms/step - loss: 0.0102 - accuracy: 0.9968 - val_loss: 0.1217 - val_accuracy: 0.9714\n",
            "Epoch 10/15\n",
            "135/135 [==============================] - 2s 12ms/step - loss: 0.0103 - accuracy: 0.9965 - val_loss: 0.1463 - val_accuracy: 0.9641\n",
            "Epoch 11/15\n",
            "135/135 [==============================] - 2s 12ms/step - loss: 0.0211 - accuracy: 0.9929 - val_loss: 0.1177 - val_accuracy: 0.9724\n",
            "Epoch 12/15\n",
            "135/135 [==============================] - 2s 12ms/step - loss: 0.0107 - accuracy: 0.9964 - val_loss: 0.1228 - val_accuracy: 0.9703\n",
            "Epoch 13/15\n",
            "135/135 [==============================] - 2s 12ms/step - loss: 0.0157 - accuracy: 0.9949 - val_loss: 0.1299 - val_accuracy: 0.9693\n",
            "Epoch 14/15\n",
            "135/135 [==============================] - 2s 12ms/step - loss: 0.0113 - accuracy: 0.9966 - val_loss: 0.1275 - val_accuracy: 0.9734\n",
            "Epoch 15/15\n",
            "135/135 [==============================] - 2s 12ms/step - loss: 0.0076 - accuracy: 0.9977 - val_loss: 0.1341 - val_accuracy: 0.9734\n"
          ]
        }
      ]
    },
    {
      "cell_type": "markdown",
      "source": [
        "# **Modello 5 Layer Nascosti**"
      ],
      "metadata": {
        "id": "husyboSnlGH-"
      }
    },
    {
      "cell_type": "code",
      "source": [
        "from tensorflow import keras\n",
        "from tensorflow.keras import layers\n",
        "num_classes = 4\n",
        "\n",
        "model  = keras.Sequential()\n",
        "\n",
        "model.add(layers.Dense(512 ,activation = \"relu\",input_shape = (784,)))\n",
        "\n",
        "model.add(layers.Dense(256, activation = \"relu\"))\n",
        "\n",
        "model.add(layers.Dense(128, activation = \"relu\"))\n",
        "\n",
        "model.add(layers.Dense(64, activation = \"relu\"))\n",
        "\n",
        "model.add(layers.Dense(num_classes, activation = \"softmax\"))\n",
        "\n",
        "batch_size = 128\n",
        "epochs = 15\n",
        "\n",
        "#crossentropy\n",
        "feature_vector_length = 784\n",
        "images_training = images_training.reshape(images_training.shape[0],feature_vector_length)\n",
        "images_testing = images_testing.reshape(images_testing.shape[0],feature_vector_length)\n",
        "\n",
        "model.compile(loss=\"sparse_categorical_crossentropy\", optimizer=\"adam\", metrics=[\"accuracy\"])\n",
        "\n",
        "history2 = model.fit(images_training, labels_training, batch_size=batch_size, epochs=epochs, validation_split=0.1)\n",
        "model.save(\"model.h5\")"
      ],
      "metadata": {
        "colab": {
          "base_uri": "https://localhost:8080/"
        },
        "id": "uCSG_lL1lIHu",
        "outputId": "305fbfd1-90ea-48b6-dc63-38771946dbd9"
      },
      "execution_count": null,
      "outputs": [
        {
          "output_type": "stream",
          "name": "stdout",
          "text": [
            "Epoch 1/15\n",
            "135/135 [==============================] - 3s 18ms/step - loss: 0.2935 - accuracy: 0.8960 - val_loss: 0.1666 - val_accuracy: 0.9474\n",
            "Epoch 2/15\n",
            "135/135 [==============================] - 2s 16ms/step - loss: 0.1092 - accuracy: 0.9645 - val_loss: 0.0966 - val_accuracy: 0.9667\n",
            "Epoch 3/15\n",
            "135/135 [==============================] - 2s 15ms/step - loss: 0.0671 - accuracy: 0.9785 - val_loss: 0.0915 - val_accuracy: 0.9719\n",
            "Epoch 4/15\n",
            "135/135 [==============================] - 2s 16ms/step - loss: 0.0463 - accuracy: 0.9851 - val_loss: 0.1114 - val_accuracy: 0.9672\n",
            "Epoch 5/15\n",
            "135/135 [==============================] - 2s 15ms/step - loss: 0.0338 - accuracy: 0.9891 - val_loss: 0.1312 - val_accuracy: 0.9672\n",
            "Epoch 6/15\n",
            "135/135 [==============================] - 2s 14ms/step - loss: 0.0280 - accuracy: 0.9903 - val_loss: 0.1117 - val_accuracy: 0.9729\n",
            "Epoch 7/15\n",
            "135/135 [==============================] - 2s 15ms/step - loss: 0.0216 - accuracy: 0.9930 - val_loss: 0.1235 - val_accuracy: 0.9703\n",
            "Epoch 8/15\n",
            "135/135 [==============================] - 2s 16ms/step - loss: 0.0158 - accuracy: 0.9944 - val_loss: 0.1351 - val_accuracy: 0.9646\n",
            "Epoch 9/15\n",
            "135/135 [==============================] - 3s 24ms/step - loss: 0.0187 - accuracy: 0.9939 - val_loss: 0.1642 - val_accuracy: 0.9651\n",
            "Epoch 10/15\n",
            "135/135 [==============================] - 2s 14ms/step - loss: 0.0267 - accuracy: 0.9905 - val_loss: 0.1297 - val_accuracy: 0.9677\n",
            "Epoch 11/15\n",
            "135/135 [==============================] - 2s 16ms/step - loss: 0.0115 - accuracy: 0.9964 - val_loss: 0.1200 - val_accuracy: 0.9734\n",
            "Epoch 12/15\n",
            "135/135 [==============================] - 2s 14ms/step - loss: 0.0112 - accuracy: 0.9965 - val_loss: 0.1458 - val_accuracy: 0.9714\n",
            "Epoch 13/15\n",
            "135/135 [==============================] - 2s 15ms/step - loss: 0.0090 - accuracy: 0.9972 - val_loss: 0.1448 - val_accuracy: 0.9703\n",
            "Epoch 14/15\n",
            "135/135 [==============================] - 2s 14ms/step - loss: 0.0121 - accuracy: 0.9959 - val_loss: 0.1451 - val_accuracy: 0.9745\n",
            "Epoch 15/15\n",
            "135/135 [==============================] - 2s 17ms/step - loss: 0.0065 - accuracy: 0.9980 - val_loss: 0.1519 - val_accuracy: 0.9714\n"
          ]
        }
      ]
    },
    {
      "cell_type": "code",
      "source": [
        "score = model.evaluate(images_testing, labels_testing, verbose=0)\n",
        "print(\"Test loss:\", score[0])\n",
        "print(\"Test accuracy:\", score[1])\n",
        "\n",
        "predict_b = model.predict(images_testing[0:1])\n",
        "predict_g = model.predict(images_testing[800:801])\n",
        "predict_t = model.predict(images_testing[1600:1601])\n",
        "predict_y = model.predict(images_testing[2400:2401])\n",
        "classes_b = np.argmax(predict_b)\n",
        "print(\"Classe b predetta:\"+label(classes_b))\n",
        "classes_g = np.argmax(predict_g)\n",
        "print(\"Classe g predetta:\"+label(classes_g))\n",
        "classes_t = np.argmax(predict_t)\n",
        "print(\"Classe t predetta:\"+label(classes_t))\n",
        "classes_y = np.argmax(predict_y)\n",
        "print(\"Classe y predetta:\"+label(classes_y))"
      ],
      "metadata": {
        "id": "7auYF_B6lzfJ",
        "colab": {
          "base_uri": "https://localhost:8080/"
        },
        "outputId": "f164b652-7a89-4462-f2c6-da3543fec002"
      },
      "execution_count": null,
      "outputs": [
        {
          "output_type": "stream",
          "name": "stdout",
          "text": [
            "Test loss: 0.13764184713363647\n",
            "Test accuracy: 0.9743750095367432\n",
            "1/1 [==============================] - 0s 72ms/step\n",
            "1/1 [==============================] - 0s 17ms/step\n",
            "1/1 [==============================] - 0s 18ms/step\n",
            "1/1 [==============================] - 0s 16ms/step\n",
            "Classe b predetta:B\n",
            "Classe g predetta:G\n",
            "Classe t predetta:T\n",
            "Classe y predetta:Y\n"
          ]
        }
      ]
    },
    {
      "cell_type": "code",
      "source": [
        "def is_vertical(line):\n",
        "    return line[0]==line[2]\n",
        "def is_horizontal(line):\n",
        "    return line[1]==line[3]\n",
        "\n",
        "def overlapping_filter(lines, sorting_index):\n",
        "    filtered_lines = []\n",
        "    \n",
        "    lines = sorted(lines, key=lambda lines: lines[sorting_index])\n",
        "    separation = 5\n",
        "    for i in range(len(lines)):\n",
        "            l_curr = lines[i]\n",
        "            if(i>0):\n",
        "                l_prev = lines[i-1]\n",
        "                if ( (l_curr[sorting_index] - l_prev[sorting_index]) > separation):\n",
        "                    filtered_lines.append(l_curr)\n",
        "            else:\n",
        "                filtered_lines.append(l_curr)\n",
        "                \n",
        "    return filtered_lines\n",
        "\n",
        "def get_cropped_image(image, x, y, w, h):\n",
        "    cropped_image = image[ y:y+h , x:x+w ]\n",
        "    return cropped_image\n",
        "def get_ROI(image, horizontal, vertical, left_line_index, right_line_index, top_line_index, bottom_line_index, offset=4):\n",
        "    x1 = vertical[left_line_index][2] + offset\n",
        "    y1 = horizontal[top_line_index][3] + offset\n",
        "    x2 = vertical[right_line_index][2] - offset\n",
        "    y2 = horizontal[bottom_line_index][3] - offset\n",
        "    \n",
        "    w = x2 - x1\n",
        "    h = y2 - y1\n",
        "    \n",
        "    cropped_image = get_cropped_image(image, x1, y1, w, h)\n",
        "    \n",
        "    return cropped_image, (x1, y1, w, h)"
      ],
      "metadata": {
        "id": "QHu-d9VOFQMC"
      },
      "execution_count": null,
      "outputs": []
    },
    {
      "cell_type": "code",
      "source": [
        "import cv2 as cv\n",
        "import pandas as pd\n",
        "import numpy as np\n",
        "import csv\n",
        "import matplotlib.pyplot as plt\n",
        "import tensorflow as tf\n",
        "from PIL import Image\n",
        "\n",
        "\n",
        "#read your file\n",
        "file=r'/content/drive/MyDrive/Università/Intelligenza Artificiale/Progetto/prova.png'\n",
        "img = cv.imread(file,0)\n",
        "cImage = np.copy(img) #image to draw lines\n",
        "#Plotting the image to see the output\n",
        "plotting = plt.imshow(img,cmap='gray')\n",
        "plt.show()\n",
        "\n",
        "#thresholding the image to a binary image\n",
        "thresh,img_bin = cv.threshold(img,128,255,cv.THRESH_BINARY |cv.THRESH_OTSU)\n",
        "#inverting the image \n",
        "img_bin = 255-img_bin\n",
        "plotting = plt.imshow(img_bin,cmap='gray')\n",
        "plt.show()\n",
        "\n",
        "rho = 1\n",
        "theta = np.pi/180\n",
        "threshold = 50\n",
        "minLinLength = 50\n",
        "maxLineGap = 6\n",
        "#Trova linee\n",
        "linesP = cv.HoughLinesP(img_bin, rho , theta, threshold, None, minLinLength, maxLineGap)\n",
        "\n",
        "vertical_lines = []\n",
        "horizontal_lines = []\n",
        "\n",
        "#Divide tra linee orizzontali e verticali\n",
        "if linesP is not None:\n",
        "  for i in range(0, len(linesP)):\n",
        "    l = linesP[i][0]\n",
        "    if (is_vertical(l)):\n",
        "      vertical_lines.append(l)       \n",
        "    elif (is_horizontal(l)):\n",
        "      horizontal_lines.append(l)\n",
        "\n",
        "  horizontal_lines = overlapping_filter(horizontal_lines, 1)\n",
        "  vertical_lines = overlapping_filter(vertical_lines, 0)\n",
        "\n",
        "for i, line in enumerate(horizontal_lines):\n",
        "  cv.line(cImage, (line[0], line[1]), (line[2], line[3]), (0,255,0), 3, cv.LINE_AA)\n",
        "                      \n",
        "for i, line in enumerate(vertical_lines):\n",
        "  cv.line(cImage, (line[0], line[1]), (line[2], line[3]), (0,0,255), 3, cv.LINE_AA)\n",
        "\n",
        "plotting = plt.imshow(cImage,cmap='gray')\n",
        "plt.show()\n",
        "\n",
        "model_letters = tf.keras.models.load_model('model.h5')\n",
        "counter = 0\n",
        "print(\"Orizzontali:\"+str(len(horizontal_lines)))\n",
        "print(\"Verticali:\"+str(len(vertical_lines)))\n",
        "(thresh, bw) = cv.threshold(img_bin, 100, 255, cv.THRESH_BINARY)\n",
        "tab=list()\n",
        "for j in range(len(horizontal_lines)-1):\n",
        "  tab.append(list())\n",
        "  for i in range(len(vertical_lines)-1):    \n",
        "    counter += 1\n",
        "    #Ritaglia immagine      \n",
        "    cropped_image, (x,y,w,h) = get_ROI(bw, horizontal_lines, vertical_lines, i, i+1, j, j+1)\n",
        "        \n",
        "    plotting = plt.imshow(cropped_image,cmap='gray')\n",
        "    plt.show()\n",
        "    print(cropped_image.shape)\n",
        "    if(cropped_image.shape[1]<100):\n",
        "      x=int(cropped_image.shape[1]/3)+2\n",
        "      w=int(cropped_image.shape[1]/3)-1\n",
        "    else:\n",
        "      x=int(cropped_image.shape[1]/3)+10\n",
        "      w=int(cropped_image.shape[1]/4)\n",
        "    cropped_image = cropped_image[:,x:x+w]\n",
        "    plotting = plt.imshow(cropped_image,cmap='gray')\n",
        "    plt.show()\n",
        "    print(cropped_image.shape)\n",
        "\n",
        "    feature_vector_length = 784\n",
        "    #im = cropped_image.resize((28, 28))\n",
        "    #im = cropped_image.reshape(cropped_image.shape[0],feature_vector_length)    \n",
        "    im = cv.resize(cropped_image, dsize=(28, 28), interpolation=cv.INTER_NEAREST)\n",
        "\n",
        "    print(im.shape)\n",
        "    plotting = plt.imshow(im,cmap='gray')\n",
        "    plt.show()\n",
        "\n",
        "    im = im.reshape(feature_vector_length)\n",
        "    im = im.astype(\"float32\")/255\n",
        "    im = tf.expand_dims(im, 0)\n",
        "    \n",
        "    prediction = model_letters.predict(im)\n",
        "    classe = np.argmax(prediction)\n",
        "    print(\"Classe: \"+label(classe))\n",
        "    tab[j].append(label(classe))\n",
        "\n",
        "plotting = plt.imshow(img,cmap='gray')\n",
        "plt.show()\n",
        "for i in range(len(tab)):\n",
        "  print(tab[i])     "
      ],
      "metadata": {
        "colab": {
          "base_uri": "https://localhost:8080/",
          "height": 1000
        },
        "id": "4X3ZvIn9MVby",
        "outputId": "f06a5f10-658b-479b-c828-171d4e64ceb2"
      },
      "execution_count": null,
      "outputs": [
        {
          "output_type": "display_data",
          "data": {
            "text/plain": [
              "<Figure size 432x288 with 1 Axes>"
            ],
            "image/png": "[encoded data removed]"
          },
          "metadata": {
            "needs_background": "light"
          }
        },
        {
          "output_type": "display_data",
          "data": {
            "text/plain": [
              "<Figure size 432x288 with 1 Axes>"
            ],
            "image/png": "[encoded data removed]"
          },
          "metadata": {
            "needs_background": "light"
          }
        },
        {
          "output_type": "display_data",
          "data": {
            "text/plain": [
              "<Figure size 432x288 with 1 Axes>"
            ],
            "image/png": "[encoded data removed]"
          },
          "metadata": {
            "needs_background": "light"
          }
        },
        {
          "output_type": "stream",
          "name": "stdout",
          "text": [
            "Orizzontali:3\n",
            "Verticali:5\n"
          ]
        },
        {
          "output_type": "display_data",
          "data": {
            "text/plain": [
              "<Figure size 432x288 with 1 Axes>"
            ],
            "image/png": "[encoded data removed]"
          },
          "metadata": {
            "needs_background": "light"
          }
        },
        {
          "output_type": "stream",
          "name": "stdout",
          "text": [
            "(26, 157)\n"
          ]
        },
        {
          "output_type": "display_data",
          "data": {
            "text/plain": [
              "<Figure size 432x288 with 1 Axes>"
            ],
            "image/png": "[encoded data removed]"
          },
          "metadata": {
            "needs_background": "light"
          }
        },
        {
          "output_type": "stream",
          "name": "stdout",
          "text": [
            "(26, 39)\n",
            "(28, 28)\n"
          ]
        },
        {
          "output_type": "display_data",
          "data": {
            "text/plain": [
              "<Figure size 432x288 with 1 Axes>"
            ],
            "image/png": "[encoded data removed]"
          },
          "metadata": {
            "needs_background": "light"
          }
        },
        {
          "output_type": "stream",
          "name": "stdout",
          "text": [
            "1/1 [==============================] - 0s 61ms/step\n",
            "Classe: B\n"
          ]
        },
        {
          "output_type": "display_data",
          "data": {
            "text/plain": [
              "<Figure size 432x288 with 1 Axes>"
            ],
            "image/png": "[encoded data removed]"
          },
          "metadata": {
            "needs_background": "light"
          }
        },
        {
          "output_type": "stream",
          "name": "stdout",
          "text": [
            "(26, 157)\n"
          ]
        },
        {
          "output_type": "display_data",
          "data": {
            "text/plain": [
              "<Figure size 432x288 with 1 Axes>"
            ],
            "image/png": "[encoded data removed]"
          },
          "metadata": {
            "needs_background": "light"
          }
        },
        {
          "output_type": "stream",
          "name": "stdout",
          "text": [
            "(26, 39)\n",
            "(28, 28)\n"
          ]
        },
        {
          "output_type": "display_data",
          "data": {
            "text/plain": [
              "<Figure size 432x288 with 1 Axes>"
            ],
            "image/png": "[encoded data removed]"
          },
          "metadata": {
            "needs_background": "light"
          }
        },
        {
          "output_type": "stream",
          "name": "stdout",
          "text": [
            "1/1 [==============================] - 0s 23ms/step\n",
            "Classe: Y\n"
          ]
        },
        {
          "output_type": "display_data",
          "data": {
            "text/plain": [
              "<Figure size 432x288 with 1 Axes>"
            ],
            "image/png": "[encoded data removed]"
          },
          "metadata": {
            "needs_background": "light"
          }
        },
        {
          "output_type": "stream",
          "name": "stdout",
          "text": [
            "(26, 157)\n"
          ]
        },
        {
          "output_type": "display_data",
          "data": {
            "text/plain": [
              "<Figure size 432x288 with 1 Axes>"
            ],
            "image/png": "[encoded data removed]"
          },
          "metadata": {
            "needs_background": "light"
          }
        },
        {
          "output_type": "stream",
          "name": "stdout",
          "text": [
            "(26, 39)\n",
            "(28, 28)\n"
          ]
        },
        {
          "output_type": "display_data",
          "data": {
            "text/plain": [
              "<Figure size 432x288 with 1 Axes>"
            ],
            "image/png": "[encoded data removed]"
          },
          "metadata": {
            "needs_background": "light"
          }
        },
        {
          "output_type": "stream",
          "name": "stdout",
          "text": [
            "1/1 [==============================] - 0s 25ms/step\n",
            "Classe: Y\n"
          ]
        },
        {
          "output_type": "display_data",
          "data": {
            "text/plain": [
              "<Figure size 432x288 with 1 Axes>"
            ],
            "image/png": "[encoded data removed]"
          },
          "metadata": {
            "needs_background": "light"
          }
        },
        {
          "output_type": "stream",
          "name": "stdout",
          "text": [
            "(26, 157)\n"
          ]
        },
        {
          "output_type": "display_data",
          "data": {
            "text/plain": [
              "<Figure size 432x288 with 1 Axes>"
            ],
            "image/png": "[encoded data removed]"
          },
          "metadata": {
            "needs_background": "light"
          }
        },
        {
          "output_type": "stream",
          "name": "stdout",
          "text": [
            "(26, 39)\n",
            "(28, 28)\n"
          ]
        },
        {
          "output_type": "display_data",
          "data": {
            "text/plain": [
              "<Figure size 432x288 with 1 Axes>"
            ],
            "image/png": "[encoded data removed]"
          },
          "metadata": {
            "needs_background": "light"
          }
        },
        {
          "output_type": "stream",
          "name": "stdout",
          "text": [
            "1/1 [==============================] - 0s 25ms/step\n",
            "Classe: G\n"
          ]
        },
        {
          "output_type": "display_data",
          "data": {
            "text/plain": [
              "<Figure size 432x288 with 1 Axes>"
            ],
            "image/png": "[encoded data removed]"
          },
          "metadata": {
            "needs_background": "light"
          }
        },
        {
          "output_type": "stream",
          "name": "stdout",
          "text": [
            "(26, 157)\n"
          ]
        },
        {
          "output_type": "display_data",
          "data": {
            "text/plain": [
              "<Figure size 432x288 with 1 Axes>"
            ],
            "image/png": "[encoded data removed]"
          },
          "metadata": {
            "needs_background": "light"
          }
        },
        {
          "output_type": "stream",
          "name": "stdout",
          "text": [
            "(26, 39)\n",
            "(28, 28)\n"
          ]
        },
        {
          "output_type": "display_data",
          "data": {
            "text/plain": [
              "<Figure size 432x288 with 1 Axes>"
            ],
            "image/png": "[encoded data removed]"
          },
          "metadata": {
            "needs_background": "light"
          }
        },
        {
          "output_type": "stream",
          "name": "stdout",
          "text": [
            "1/1 [==============================] - 0s 26ms/step\n",
            "Classe: T\n"
          ]
        },
        {
          "output_type": "display_data",
          "data": {
            "text/plain": [
              "<Figure size 432x288 with 1 Axes>"
            ],
            "image/png": "[encoded data removed]"
          },
          "metadata": {
            "needs_background": "light"
          }
        },
        {
          "output_type": "stream",
          "name": "stdout",
          "text": [
            "(26, 157)\n"
          ]
        },
        {
          "output_type": "display_data",
          "data": {
            "text/plain": [
              "<Figure size 432x288 with 1 Axes>"
            ],
            "image/png": "[encoded data removed]"
          },
          "metadata": {
            "needs_background": "light"
          }
        },
        {
          "output_type": "stream",
          "name": "stdout",
          "text": [
            "(26, 39)\n",
            "(28, 28)\n"
          ]
        },
        {
          "output_type": "display_data",
          "data": {
            "text/plain": [
              "<Figure size 432x288 with 1 Axes>"
            ],
            "image/png": "[encoded data removed]"
          },
          "metadata": {
            "needs_background": "light"
          }
        },
        {
          "output_type": "stream",
          "name": "stdout",
          "text": [
            "1/1 [==============================] - 0s 18ms/step\n",
            "Classe: Y\n"
          ]
        },
        {
          "output_type": "display_data",
          "data": {
            "text/plain": [
              "<Figure size 432x288 with 1 Axes>"
            ],
            "image/png": "[encoded data removed]"
          },
          "metadata": {
            "needs_background": "light"
          }
        },
        {
          "output_type": "stream",
          "name": "stdout",
          "text": [
            "(26, 157)\n"
          ]
        },
        {
          "output_type": "display_data",
          "data": {
            "text/plain": [
              "<Figure size 432x288 with 1 Axes>"
            ],
            "image/png": "[encoded data removed]"
          },
          "metadata": {
            "needs_background": "light"
          }
        },
        {
          "output_type": "stream",
          "name": "stdout",
          "text": [
            "(26, 39)\n",
            "(28, 28)\n"
          ]
        },
        {
          "output_type": "display_data",
          "data": {
            "text/plain": [
              "<Figure size 432x288 with 1 Axes>"
            ],
            "image/png": "[encoded data removed]"
          },
          "metadata": {
            "needs_background": "light"
          }
        },
        {
          "output_type": "stream",
          "name": "stdout",
          "text": [
            "1/1 [==============================] - 0s 17ms/step\n",
            "Classe: Y\n"
          ]
        },
        {
          "output_type": "display_data",
          "data": {
            "text/plain": [
              "<Figure size 432x288 with 1 Axes>"
            ],
            "image/png": "[encoded data removed]"
          },
          "metadata": {
            "needs_background": "light"
          }
        },
        {
          "output_type": "stream",
          "name": "stdout",
          "text": [
            "(26, 157)\n"
          ]
        },
        {
          "output_type": "display_data",
          "data": {
            "text/plain": [
              "<Figure size 432x288 with 1 Axes>"
            ],
            "image/png": "[encoded data removed]"
          },
          "metadata": {
            "needs_background": "light"
          }
        },
        {
          "output_type": "stream",
          "name": "stdout",
          "text": [
            "(26, 39)\n",
            "(28, 28)\n"
          ]
        },
        {
          "output_type": "display_data",
          "data": {
            "text/plain": [
              "<Figure size 432x288 with 1 Axes>"
            ],
            "image/png": "[encoded data removed]"
          },
          "metadata": {
            "needs_background": "light"
          }
        },
        {
          "output_type": "stream",
          "name": "stdout",
          "text": [
            "1/1 [==============================] - 0s 18ms/step\n",
            "Classe: G\n"
          ]
        },
        {
          "output_type": "display_data",
          "data": {
            "text/plain": [
              "<Figure size 432x288 with 1 Axes>"
            ],
            "image/png": "[encoded data removed]"
          },
          "metadata": {
            "needs_background": "light"
          }
        },
        {
          "output_type": "stream",
          "name": "stdout",
          "text": [
            "['B', 'Y', 'Y', 'G']\n",
            "['T', 'Y', 'Y', 'G']\n"
          ]
        }
      ]
    },
    {
      "cell_type": "markdown",
      "source": [
        "Grafici Training"
      ],
      "metadata": {
        "id": "55s4CARO0_jG"
      }
    },
    {
      "cell_type": "code",
      "source": [
        "#Modello 1\n",
        "import matplotlib.pyplot as plt\n",
        "# Plot training & validation accuracy values\n",
        "plt.plot(history1.history['accuracy'])\n",
        "plt.plot(history1.history['val_accuracy'])\n",
        "plt.title('Model accuracy')\n",
        "plt.ylabel('Accuracy')\n",
        "plt.xlabel('Epoch')\n",
        "plt.legend(['Train', 'Val'], loc='upper left')\n",
        "plt.show()\n",
        "\n",
        "# Plot training & validation loss values\n",
        "plt.plot(history1.history['loss'])\n",
        "plt.plot(history1.history['val_loss'])\n",
        "plt.title('Model loss')\n",
        "plt.ylabel('Loss')\n",
        "plt.xlabel('Epoch')\n",
        "plt.legend(['Train', 'Val'], loc='upper left')\n",
        "plt.show()"
      ],
      "metadata": {
        "id": "a9jc8b9_0_JF"
      },
      "execution_count": null,
      "outputs": []
    },
    {
      "cell_type": "code",
      "source": [
        "#Modello 2\n",
        "import matplotlib.pyplot as plt\n",
        "# Plot training & validation accuracy values\n",
        "plt.plot(history2.history['accuracy'])\n",
        "plt.plot(history2.history['val_accuracy'])\n",
        "plt.title('Model accuracy')\n",
        "plt.ylabel('Accuracy')\n",
        "plt.xlabel('Epoch')\n",
        "plt.legend(['Train', 'Val'], loc='upper left')\n",
        "plt.show()\n",
        "\n",
        "# Plot training & validation loss values\n",
        "plt.plot(history2.history['loss'])\n",
        "plt.plot(history2.history['val_loss'])\n",
        "plt.title('Model loss')\n",
        "plt.ylabel('Loss')\n",
        "plt.xlabel('Epoch')\n",
        "plt.legend(['Train', 'Val'], loc='upper left')\n",
        "plt.show()"
      ],
      "metadata": {
        "id": "lFmfovzz1LHj"
      },
      "execution_count": null,
      "outputs": []
    },
    {
      "cell_type": "markdown",
      "source": [
        "Matrice di confusione"
      ],
      "metadata": {
        "id": "Yhxp5CX11pkp"
      }
    },
    {
      "cell_type": "code",
      "source": [
        "from sklearn.metrics import confusion_matrix\n",
        "from sklearn.metrics import ConfusionMatrixDisplay\n",
        "import matplotlib.pyplot as plt\n",
        "\n",
        "label_pred = model.predict(images_testing)\n",
        "label_pred = np.argmax(label_pred, axis = 1)\n",
        "\n",
        "confusionMatrix = confusion_matrix(labels_testing, label_pred, normalize = 'true')\n",
        "disp = ConfusionMatrixDisplay(confusion_matrix = confusionMatrix, display_labels = ['T','B','Y','G'])\n",
        "disp.plot()\n",
        "plt.show()"
      ],
      "metadata": {
        "colab": {
          "base_uri": "https://localhost:8080/",
          "height": 279
        },
        "id": "WtEyywV91qm1",
        "outputId": "74c007fb-80ae-480d-89eb-5c10be100862"
      },
      "execution_count": null,
      "outputs": [
        {
          "output_type": "display_data",
          "data": {
            "text/plain": [
              "<Figure size 432x288 with 2 Axes>"
            ],
            "image/png": "[encoded data removed]"
          },
          "metadata": {
            "needs_background": "light"
          }
        }
      ]
    },
    {
      "cell_type": "markdown",
      "source": [
        "Precision, Recall e F1"
      ],
      "metadata": {
        "id": "PDr7H8xF26zP"
      }
    },
    {
      "cell_type": "code",
      "source": [
        "from sklearn.metrics import classification_report\n",
        "print(classification_report(labels_testing, label_pred))"
      ],
      "metadata": {
        "colab": {
          "base_uri": "https://localhost:8080/"
        },
        "id": "GQdZqm8E27N8",
        "outputId": "af4fd472-aa76-4639-8b16-dcac61fb3704"
      },
      "execution_count": null,
      "outputs": [
        {
          "output_type": "stream",
          "name": "stdout",
          "text": [
            "              precision    recall  f1-score   support\n",
            "\n",
            "           0       0.98      0.98      0.98       800\n",
            "           1       0.97      0.98      0.98       800\n",
            "           2       0.98      0.97      0.98       800\n",
            "           3       0.96      0.97      0.97       800\n",
            "\n",
            "    accuracy                           0.98      3200\n",
            "   macro avg       0.98      0.98      0.98      3200\n",
            "weighted avg       0.98      0.98      0.98      3200\n",
            "\n"
          ]
        }
      ]
    },
    {
      "cell_type": "markdown",
      "source": [
        "Euristica miglior percorso"
      ],
      "metadata": {
        "id": "WSyc1ZVWCm1y"
      }
    },
    {
      "cell_type": "code",
      "source": [
        "!git clone https://github.com/aimacode/aima-python.git"
      ],
      "metadata": {
        "colab": {
          "base_uri": "https://localhost:8080/"
        },
        "id": "bgw2yTItCmD6",
        "outputId": "34920af2-ab11-4718-8fe6-f1719addc226"
      },
      "execution_count": null,
      "outputs": [
        {
          "output_type": "stream",
          "name": "stdout",
          "text": [
            "Cloning into 'aima-python'...\n",
            "remote: Enumerating objects: 5095, done.\u001b[K\n",
            "remote: Counting objects: 100% (3/3), done.\u001b[K\n",
            "remote: Compressing objects: 100% (3/3), done.\u001b[K\n",
            "remote: Total 5095 (delta 0), reused 2 (delta 0), pack-reused 5092\u001b[K\n",
            "Receiving objects: 100% (5095/5095), 17.71 MiB | 24.70 MiB/s, done.\n",
            "Resolving deltas: 100% (3416/3416), done.\n"
          ]
        }
      ]
    },
    {
      "cell_type": "markdown",
      "source": [
        "Definizione euristiche e classi problema"
      ],
      "metadata": {
        "id": "vsd8VPazCvk6"
      }
    },
    {
      "cell_type": "code",
      "source": [
        "import sys\n",
        "sys.path.append(\"aima-python\")\n",
        "import numpy as np\n",
        "import itertools\n",
        "from enum import Enum\n",
        "import random\n",
        "from search import *\n",
        "import time\n",
        "\n",
        "cost_direction=1  #Costo spostamento\n",
        "\n",
        "#Classe direzioni possibili\n",
        "class Directions(Enum):\n",
        "    UP = (-1, 0)\n",
        "    DOWN = (1, 0)\n",
        "    LEFT = (0, -1)\n",
        "    RIGHT = (0, 1)\n",
        "\n",
        "#Classe colori possibili\n",
        "class Colors(Enum):\n",
        "    BLUE = 1\n",
        "    YELLOW = 2\n",
        "    GREEN = 3\n",
        "\n",
        "#Classe euristiche disponibili\n",
        "class Heuristic(Enum):\n",
        "    BEST_PATH = 0\n",
        "    NEAREST_NEIGHBOR = 1\n",
        "\n",
        "#Classe stato griglia e puntatore\n",
        "class State():\n",
        "    def __init__(self, grid, x, y):\n",
        "        self.grid = grid\n",
        "        self.x = x\n",
        "        self.y = y\n",
        "        self.id = str(x)+str(y)\n",
        "        for row in grid:\n",
        "            for cell in row:\n",
        "                self.id = self.id+str(cell)\n",
        "\n",
        "    def __lt__(self, state):\n",
        "        return False\n",
        "\n",
        "class UniformColoring(Problem):\n",
        "    \"\"\"The abstract class for a formal problem. You should subclass\n",
        "    this and implement the methods actions and result, and possibly\n",
        "    __init__, goal_test, and path_cost. Then you will create instances\n",
        "    of your subclass and solve them with the various search functions.\"\"\"\n",
        "\n",
        "    def __init__(self, initial, heuristic_type=Heuristic.NEAREST_NEIGHBOR):\n",
        "        \"\"\"The constructor specifies the initial state, and possibly a goal\n",
        "        state, if there is a unique goal.  Your subclass's constructor can add\n",
        "        other arguments.\"\"\"\n",
        "        self.initial = initial\n",
        "        self.heuristic_type=heuristic_type\n",
        "\n",
        "    def actions(self, state):\n",
        "        \"\"\"Return the actions that can be executed in the given\n",
        "        state. The result would typically be a list, but if there are\n",
        "        many actions, consider yielding them one at a time in an\n",
        "        iterator, rather than building them all at once.\"\"\"\n",
        "        actions=[]\n",
        "        if (state.x != self.initial.x) or (state.y != self.initial.y):  #Se non si trova sulla cella iniziale\n",
        "            for color in Colors:  # action colora cella, per ogni colore nella classe Colors\n",
        "                if (color.value != state.grid[state.x][state.y]): #Se il valore del colore è diverso da quello in cui si trova ora la testina\n",
        "                    actions.append(color) #Aggiunge alla lista delle azioni di colorare quella cella\n",
        "        for direction in Directions:  # action muovi testina, per ogni direzione possibile\n",
        "            coords=(state.x+direction.value[0],state.y+direction.value[1])  #Verifica se spostandosi nella direzione presente, si rimane all'interno della griglia\n",
        "            if coords[0] in range(grid.shape[0]) and coords[1] in range(grid.shape[1]): \n",
        "                actions.append(direction)   #Se ci rimane aggiunge lo spostamento in quella direzione nella lista di azioni\n",
        "        return actions  #Ritorna la lista delle azioni possibili\n",
        "\n",
        "    def result(self, state, action):\n",
        "        \"\"\"Return the state that results from executing the given\n",
        "        action in the given state. The action must be one of\n",
        "        self.actions(state).\"\"\"\n",
        "        if action in Directions:  #Se azione fa parte di Directions, allora sposta la testina dallo stato attuale in cui si trova, nella direzione indicata nell'azione\n",
        "            return State(state.grid,state.x+action.value[0],state.y+action.value[1])  #Ritorna un nuovo stato con la nuova posizione attuale della testina\n",
        "        else:\n",
        "            grid=np.copy(state.grid)  #Copia la griglia attuale\n",
        "            grid[state.x][state.y]=action.value   #Colora la cella attuale con il valore del colore presente nell'azione\n",
        "            return State(grid,state.x,state.y)    #Ritorna un nuovo stato, con la nuova griglia colorata e la posizione della testina su cui già si trovava\n",
        "\n",
        "    def goal_test(self, state):\n",
        "        \"\"\"Return True if the state is a goal. The default method compares the\n",
        "        state to self.goal or checks for state in self.goal if it is a\n",
        "        list, as specified in the constructor. Override this method if\n",
        "        checking against a single self.goal is not enough.\"\"\"\n",
        "        test_color = None\n",
        "        if ((state.x, state.y) == (self.initial.x, self.initial.y)):  #Se la posizione attuale della testina è la stessa dello stato iniziale\n",
        "            for color in Colors:  #Per ogni colore nella classe Colors\n",
        "                if color.value in state.grid:   #Se quel colore è presente nella griglia attuale\n",
        "                    if test_color == None: \n",
        "                        test_color = color.value  #test_color prende il valore del primo colore che è presente nella griglia \n",
        "                    if color.value != test_color: #Se è presente nella griglia qualsiasi altro colore diverso da quello trovato precedentemente nella griglia\n",
        "                        return False              #Allora non tutta la griglia è colorata con lo stesso colore--> goal_test=False\n",
        "        else:   #Se la testina non si trova nella posizione dove si trovava inizialmente --> goal_test=False\n",
        "            return False\n",
        "        return True   #Se invece non sono presenti altri colori nella griglia, è colorata tutta con lo stesso colore --> goal_test=True\n",
        "\n",
        "    def path_cost(self, c, state1, action, state2):\n",
        "        \"\"\"Return the cost of a solution path that arrives at state2 from\n",
        "        state1 via action, assuming cost c to get up to state1. If the problem\n",
        "        is such that the path doesn't matter, this function will only look at\n",
        "        state2. If the path does matter, it will consider c and maybe state1\n",
        "        and action. The default method costs 1 for every step in the path.\"\"\"\n",
        "        if action in Colors:\n",
        "            return c + action.value\n",
        "        return c + cost_direction\n",
        "\n",
        "    def manhattan_distance(self, coord1, coord2):   #Calcola distanza tra coord1 e coord2\n",
        "            return abs(coord2[0] - coord1[0]) + abs(coord2[1] - coord1[1])\n",
        "\n",
        "    def heuristic(self, node, color):   #In base all'euristica scelta, richiama la funzione associata\n",
        "        if self.heuristic_type == Heuristic.NEAREST_NEIGHBOR:\n",
        "            return self.heuristic_nearest_neighbor(node, color)\n",
        "        elif self.heuristic_type == Heuristic.BEST_PATH:\n",
        "            return self.heuristic_best_path(node, color)\n",
        "\n",
        "    def heuristic_best_path(self, node, color):\n",
        "        \"\"\"Verifica prima quante sono le celle da colorare con il colore indicato e ne somma il costo, se sono più di una (compresa quella in cui si trova),\n",
        "        calcola tutte le possibili permutazioni delle celle da colorare, per ogni permutazione (percorso) calcola la distanza totale percorsa per spostarsi tra le celle\n",
        "        Infine prende la distanza più corta tra le varie permutazioni e ritorna la somma tra il costo per colorare e il costo per spostarsi.\n",
        "        Calcola il costo per ogni possibile percorso (pesante) e prende quello con costo più basso--> Ottimo globale\"\"\"\n",
        "        color_cost = 0\n",
        "        grid = node.state.grid\n",
        "        x = node.state.x\n",
        "        y = node.state.y\n",
        "        not_colored = []\n",
        "        for i in range(len(grid)):  #Scorre righe\n",
        "            for j in range(len(grid[i])):   #Scorre colonne\n",
        "                if(grid[i][j] != color and grid[i][j] != 0):  #Se posizione [i][j] non è colorata con il colore richiesto ma è colorata\n",
        "                    if (i,j) != (node.state.x,node.state.y): #Se posizione [i][j] diversa da posizione attuale testina\n",
        "                      not_colored.append((i, j))  #Aggiunge cella in pos [i][j] alla lista dei non colorati\n",
        "                    color_cost += color   #Somma al costo totale per caricare, il costo del colore da applicare alla cella indicata\n",
        "\n",
        "        distance = None\n",
        "        if (len(not_colored)>0):  #Se ci sono celle da colorare\n",
        "            permutations = list(itertools.permutations(not_colored))  #Calcola tutte le possibili permutazioni delle celle da colorare\n",
        "        else:\n",
        "            distance = self.manhattan_distance( #Se tutte le celle sono state colorare, aggiunge al costo totale, il costo per ritornare nella posizione iniziale\n",
        "                          (node.state.x, node.state.y), (self.initial.x, self.initial.y))\n",
        "            return color_cost + (distance * cost_direction)\n",
        "\n",
        "        for permutation in permutations:    #Scorre tutte le possibili permutazioni\n",
        "            temp_distance = 0 #Distanza temporanea\n",
        "            for i in range(len(permutation)):   #Itera per il numero di celle da colorare presenti nella permutazione\n",
        "                if (i+1) in range(len(permutation)):  #Se non si trova all'ultima cella della permutazione\n",
        "                    temp_distance += self.manhattan_distance(permutation[i], permutation[i+1])  #Calcola distanza tra cella i e quella successiva\n",
        "            temp_distance += self.manhattan_distance((node.state.x, node.state.y), permutation[0])  #Aggiunge distanza tra posizione attuale e quella da cui inizia il path\n",
        "            temp_distance += self.manhattan_distance(permutation[len(permutation)-1], (self.initial.x, self.initial.y)) #Aggiunge distanza da cella finale path alla cella iniziale della testina \n",
        "            \n",
        "            if distance == None:  #Se distanza non impostata\n",
        "                distance = temp_distance  #Gli assegna la distanza temporanea, calcolata in precedenza\n",
        "            elif temp_distance < distance:  #Se già impostata, verifica se quella temporanea appena calcolata è più piccola rispetto a quella presente\n",
        "                distance = temp_distance  \n",
        "          \n",
        "        return color_cost + distance * cost_direction #Ritorna la somma tra il costo per colorare e tra il prodotto della distanza con il costo per ogni spostamento\n",
        "\n",
        "    def heuristic_nearest_neighbor(self, node, color):\n",
        "        \"\"\"Scorre la griglia, per ogni cella che non è del colore richiesto, la inserisce nella lista di quelle da colorare e somma il costo per colorare ognuna di queste\n",
        "        Dopo calcola la distanza dalla posizione attuale a quella delle altre celle da colorare e prende quella più vicina, somma il costo per arrivaci, \n",
        "        si sposta in quella cella e la rimuove tra quelle da colorare. \n",
        "        Ripete il procedimento cercando la prossima cella più vicina da quella che è diventata l'attuale, si sposta, somma costo e rimuove da lista,\n",
        "        per tutte le celle presenti nella lista da colorare.\n",
        "        Infine aggiunge al costo totale il costo dello spostamento dalla cella in cui si trova a quella di partenza.\n",
        "        Trova via via il vicino più vicino (leggero) e ci si sposta--> Ottimo locale \"\"\"\n",
        "        cost = 0\n",
        "        grid = node.state.grid\n",
        "        not_colored = []\n",
        "        for i in range(grid.shape[0]):  #Scorre righe\n",
        "            for j in range(grid.shape[1]):  #Scorre colonne\n",
        "                if(grid[i][j] != color and grid[i][j] != 0):  #Se posizione [i][j] non è colorata con il colore richiesto ma è colorata\n",
        "                    not_colored.append((i, j))  #Aggiunge cella in pos [i][j] alla lista dei non colorati\n",
        "                    cost += color   ##Somma al costo totale per caricare, il costo del colore da applicare alla cella indicata\n",
        "        x = node.state.x\n",
        "        y = node.state.y\n",
        "        for i in range(len(not_colored)): #Itera per il numero di celle da colorare \n",
        "            #Assegna a distance la tupla con (distanza tra la prima cella da colorare e la posizione attuale), coordinate cella da colorare)\n",
        "            distance = (self.manhattan_distance((not_colored[0][0],not_colored[0][1]),(x,y)), not_colored[0])\n",
        "            for cell in not_colored:  #Scorre celle nella lista delle non colorate\n",
        "                #Assegna tupla con (distanza tra cella da colorare e posizione attuale), coordinate cella da colorare\n",
        "                temp_distance = (self.manhattan_distance((cell[0],cell[1]),(x,y)), cell)\n",
        "                if (temp_distance < distance):  #Se la distanza calcolata è minore della migliore trovata fino a quel momento\n",
        "                    distance = temp_distance\n",
        "            cost += (distance[0] * cost_direction)  #Aggiunge al costo totale, il costo dello spostamento alla cella più vicina\n",
        "            x = distance[1][0]\n",
        "            y = distance[1][1]\n",
        "            not_colored.remove(distance[1]) #Rimuove la cella trovata come più vicina, dalla lista di quelle da colorare \n",
        "        cost += (self.manhattan_distance((self.initial.x,self.initial.y),(x,y)) * cost_direction) #Somma al costo totale la distanza dalla posizione attuale a quella di partenza\n",
        "        return cost\n",
        "\n",
        "    def h(self, node):\n",
        "        \"\"\" Return the heuristic value for a given state.\"\"\"\n",
        "        x,y=(node.state.x,node.state.y)\n",
        "        cost = None\n",
        "        if node.action != None and node.action in Colors: #Se l'azione è colorare una cella\n",
        "            cost = self.heuristic(node, node.action.value) #Richiama l'heuristica scelta con il colore presente nell'azione, ritorna il costo dell'euristica per colorare con il colore assegnato\n",
        "            #print(\"Heuristic value:\", cost, node.state.grid, x,y)\n",
        "            return cost\n",
        "        parent=node.parent\n",
        "        color=None\n",
        "        #Se l'azione è uno spostamento, si prende il colore del padre come colore scelto\n",
        "        if parent != None:\n",
        "            color=parent.state.grid[parent.state.x][parent.state.y]\n",
        "        if (x,y) == (self.initial.x,self.initial.y) or color==0: #Se non ho un colore del parent, scelgo quello che minimizza l'euristica\n",
        "            cost = None\n",
        "            for color in Colors:\n",
        "                temp_cost = self.heuristic(node, color.value)\n",
        "                if cost == None:\n",
        "                    cost=temp_cost\n",
        "                elif temp_cost < cost:\n",
        "                    cost = temp_cost\n",
        "            #print(\"Heuristic 0,0 value:\", cost)\n",
        "            return cost\n",
        "        else:\n",
        "            cost = self.heuristic(node, color)\n",
        "            #print(\"Heuristic value:\", cost, node.state.grid, x,y)\n",
        "            return cost"
      ],
      "metadata": {
        "id": "K6AmqccsoC3a"
      },
      "execution_count": null,
      "outputs": []
    },
    {
      "cell_type": "markdown",
      "source": [
        "Tecniche di Ricerca"
      ],
      "metadata": {
        "id": "ux7gWBSw-BLq"
      }
    },
    {
      "cell_type": "code",
      "source": [
        "def best_first_graph_search(problem, f, display=True):\n",
        "    \"\"\"Search the nodes with the lowest f scores first.\n",
        "    You specify the function f(node) that you want to minimize; for example,\n",
        "    if f is a heuristic estimate to the goal, then we have greedy best\n",
        "    first search; if f is node.depth then we have breadth-first search.\n",
        "    There is a subtlety: the line \"f = memoize(f, 'f')\" means that the f\n",
        "    values will be cached on the nodes as they are computed. So after doing\n",
        "    a best first search you can examine the f values of the path returned.\"\"\"\n",
        "    f = memoize(f, 'f')\n",
        "    node = Node(problem.initial)  #Inizialliza con griglia e cella iniziale\n",
        "    #print(\"#COORDS0:\", node.state.i, node.state.j, node.state.grid)\n",
        "    frontier = PriorityQueue('min', f)  #Inizializza come PriorityQueue\n",
        "    frontier.append(node) #Aggiunge nodo iniziale\n",
        "    lookup_frontier=set() #Crea set nodi da esplorare\n",
        "    lookup_frontier.add(id(node)) #Aggiunge id nodo iniziale\n",
        "    explored = set()  #Crea set nodi esplorati\n",
        "    while frontier: #Finchè frontier != None\n",
        "        #print(\"frontiera:\", len(frontier))\n",
        "        node = frontier.pop() #Preleva da frontier\n",
        "        #print(\"#NODE:\", node.state.i, node.state.j, node.state.grid)\n",
        "        lookup_frontier.remove(id(node))  #Rimuove nodo da frontiera da guardare\n",
        "        if problem.goal_test(node.state): #Se lo stato del nodo supera goal_test \n",
        "            if display: #Se variabile display=True\n",
        "                print(\"Percorsi esplorati: \", len(explored), \"\\n Percorsi non esplorati:\", len(frontier))\n",
        "            return node #Ritorna nodo\n",
        "        explored.add(node.state.id) #Aggiunge nodo a quelli esplorati\n",
        "        for child in node.expand(problem):  #Per ogni figlio di node\n",
        "            #print(\"#CHILD:\", node.state.i, node.state.j, node.state.grid)\n",
        "            if child.state.id not in explored and id(child) not in lookup_frontier: #Se child non presente nei nodi esplorati e in quelli da esplorare, li aggiunge alla frontiera\n",
        "                lookup_frontier.add(id(child))\n",
        "                frontier.append(child)\n",
        "            elif id(child) in lookup_frontier:  #Se è presente nei nodi da esplorare\n",
        "                if f(child) < frontier[child]:  #Se costo figlio è minore di quello in frontiera\n",
        "                    del frontier[child]         #Cancella nodo in frontiera\n",
        "                    lookup_frontier.add(id(child))\n",
        "                    frontier.append(child)      #Lo riaggiunge in frontiera come figlio del nodo esplorato\n",
        "    return None\n",
        "\n",
        "def uniform_cost_search(problem, display=True):\n",
        "    #Ricerca non informata\n",
        "    start_time = time.time()\n",
        "    print(\"Esecuzione uniform_cost_search...\")\n",
        "    sol = best_first_graph_search(problem, lambda node: node.path_cost, display)\n",
        "    print(\"Tempo esecuzione: %s secondi\" % (time.time() - start_time))\n",
        "    return sol\n",
        "\n",
        "def astar_search(problem, h=None, display=True):\n",
        "    \"\"\"A* search is best-first graph search with f(n) = g(n)+h(n).\n",
        "    You need to specify the h function when you call astar_search, or\n",
        "    else in your Problem subclass.\"\"\"\n",
        "    #Ricerca informata con costo euristica\n",
        "    print(\"Esecuzione astar_search...\")\n",
        "    start_time = time.time()\n",
        "    h = memoize(h or problem.h, 'h')\n",
        "    sol = best_first_graph_search(problem, lambda n: n.path_cost + h(n), display)\n",
        "    print(\"Tempo esecuzione: %s secondi\" % (time.time() - start_time))\n",
        "    return sol"
      ],
      "metadata": {
        "id": "QRYqaHrLL0MH"
      },
      "execution_count": null,
      "outputs": []
    },
    {
      "cell_type": "markdown",
      "source": [
        "Inizializzazione problema con scelta euristica"
      ],
      "metadata": {
        "id": "A_NXav08-OJm"
      }
    },
    {
      "cell_type": "code",
      "source": [
        "\"\"\"\n",
        "grid=np.array([[0, 2, 2, 3], \n",
        "               [2, 2, 3, 2], \n",
        "               [3, 3, 2, 2], \n",
        "               [1, 3, 3, 3]])\n",
        "\"\"\"\n",
        "print(tab)\n",
        "tab_num=list()\n",
        "for i in range(len(tab)):\n",
        "  tab_num.append(list())\n",
        "  for j in range(len(tab[i])):\n",
        "    tab_num[i].append(num(tab[i][j]))\n",
        "print(tab_num)\n",
        "grid=np.array(tab_num)\n",
        "for i in range(grid.shape[0]):  #Scorre righe\n",
        "  for j in range(grid.shape[1]):  #Scorre colonne\n",
        "    if grid[i][j]==0: #Se cella è quella iniziale dove presente testina\n",
        "      initial_state=State(grid,i,j) #Inizializza uno stato con le cordinate della cella indicata, sarà lo stato iniziale\n",
        "      break\n",
        "\n",
        "user_input=''\n",
        "user_input = input(\"Seleziona l'euristica: (1 carattere) \\n -'b' : BEST_PATH \\n -'n' : NEAREST_NEIGHBOR\\n\")[0]\n",
        "if (user_input == 'b' or user_input == 'B'):\n",
        "  problem=UniformColoring(initial_state,Heuristic.BEST_PATH)  #Inizializza il problema passando lo stato iniziale e l'euristica da utilizzare\n",
        "  print(\"Euristica selezionata: BEST_PATH\")\n",
        "elif (user_input == 'n' or user_input == 'N'):\n",
        "    problem=UniformColoring(initial_state,Heuristic.NEAREST_NEIGHBOR)\n",
        "    print(\"Euristica selezionata: NEAREST_NEIGHBOR\") \n",
        "else:\n",
        "  problem=UniformColoring(initial_state,Heuristic.BEST_PATH)\n",
        "  print(\"Carattere sbagliato, le uniche opzioni disponibili sono 'b' e 'n' \\nViene scelto BEST_PATH per default\")\n",
        "  print(\"Euristica selezionata: BEST_PATH\")"
      ],
      "metadata": {
        "id": "Ia2o1nDCMNne",
        "colab": {
          "base_uri": "https://localhost:8080/"
        },
        "outputId": "7a96ea1b-0eff-4eb7-fccc-08782a69edd0"
      },
      "execution_count": null,
      "outputs": [
        {
          "output_type": "stream",
          "name": "stdout",
          "text": [
            "[['B', 'Y', 'Y', 'G'], ['T', 'Y', 'Y', 'G']]\n",
            "[[1, 2, 2, 3], [0, 2, 2, 3]]\n",
            "Seleziona l'euristica: (1 carattere) \n",
            " -'b' : BEST_PATH \n",
            " -'n' : NEAREST_NEIGHBOR\n",
            "b\n",
            "Euristica selezionata: BEST_PATH\n"
          ]
        }
      ]
    },
    {
      "cell_type": "markdown",
      "source": [
        "Scelta ed esecuzione tecnica di ricerca"
      ],
      "metadata": {
        "id": "24MuEj5jDY-T"
      }
    },
    {
      "cell_type": "code",
      "source": [
        "user_input = input(\"Seleziona la tecnica di ricerca: (1 carattere) \\n -'a' : A* SEARCH \\n -'u' : UNIFORM COST SEARCH\\n\")[0]\n",
        "if (user_input == 'a' or user_input == 'A'):\n",
        "  print(\"Tecnica di ricerca selezionata: A* SEARCH\")\n",
        "  res = astar_search(problem)\n",
        "elif (user_input == 'u' or user_input == 'U'):\n",
        "  print(\"Tecnica di ricerca selezionata: UNIFORM COST SEARCH\")\n",
        "  res = uniform_cost_search(problem)\n",
        "else:\n",
        "  print(\"Carattere sbagliato, le uniche opzioni disponibili sono 'a' e 'u' \\n Viene scelto A* SEARCH per default\")\n",
        "  print(\"Tecnica di ricerca selezionata: A* SEARCH\")\n",
        "  res = astar_search(problem)\n",
        "#res = best_first_graph_search(problem, lambda n: n.path_cost, display=True) == uniform_cost_search(problem)\n",
        "sol=res.solution()\n",
        "print(\"Stato griglia iniziale: \\n\",initial_state.grid)\n",
        "print(\"Stato griglia finale: \\n\",res.state.grid)\n",
        "print(\"Costo soluzione: \",res.path_cost)\n",
        "print(\"Passi per arrivare a soluzione: \",len(sol))"
      ],
      "metadata": {
        "id": "vK9Y5GAhMUlq",
        "colab": {
          "base_uri": "https://localhost:8080/"
        },
        "outputId": "e8d693c7-62c1-4fe9-bb9a-596bf8590634"
      },
      "execution_count": null,
      "outputs": [
        {
          "output_type": "stream",
          "name": "stdout",
          "text": [
            "Seleziona la tecnica di ricerca: (1 carattere) \n",
            " -'a' : A* SEARCH \n",
            " -'u' : UNIFORM COST SEARCH\n",
            "u\n",
            "Tecnica di ricerca selezionata: UNIFORM COST SEARCH\n",
            "Esecuzione uniform_cost_search...\n",
            "Percorsi esplorati:  5238 \n",
            " Percorsi non esplorati: 22298\n",
            "Tempo esecuzione: 4.096402168273926 secondi\n",
            "Stato griglia iniziale: \n",
            " [[1 2 2 3]\n",
            " [0 2 2 3]]\n",
            "Stato griglia finale: \n",
            " [[1 1 1 1]\n",
            " [0 1 1 1]]\n",
            "Costo soluzione:  14\n",
            "Passi per arrivare a soluzione:  14\n"
          ]
        }
      ]
    },
    {
      "cell_type": "markdown",
      "source": [
        "Visualizza Azioni"
      ],
      "metadata": {
        "id": "I_QupqwwCiDs"
      }
    },
    {
      "cell_type": "code",
      "source": [
        "node_list=[]\n",
        "node=res\n",
        "while node!=None: #Scorre tutti i node, salendo al parente ogni volta, fino a quello senza parente\n",
        "  node_list.insert(0,node)\n",
        "  node=node.parent\n",
        "i=0\n",
        "node=node_list.pop(0)\n",
        "print(\"\\nTestina in posizione: (\",node.state.x,\",\",node.state.y,\")\")\n",
        "print(\"Stato griglia INIZIALE passo n. \",i,\" :\\n\",node.state.grid)\n",
        "for action in sol:\n",
        "  i+=1\n",
        "  print(\"==============\\n\")\n",
        "  print(\"Azione: \",action)\n",
        "  node=node_list.pop(0)\n",
        "  print(\"Testina in posizione: (\",node.state.x,\",\",node.state.y,\")\")\n",
        "  if i != len(sol):\n",
        "    print(\"Stato griglia passo n. \",i,\" :\\n\",node.state.grid)\n",
        "  else:\n",
        "    print(\"Stato griglia FINALE passo n. \",i,\" :\\n\",node.state.grid)"
      ],
      "metadata": {
        "colab": {
          "base_uri": "https://localhost:8080/"
        },
        "id": "YKvE0souCJAN",
        "outputId": "b20ce4f1-6a2f-4390-f01e-d06f0b203dc5"
      },
      "execution_count": null,
      "outputs": [
        {
          "output_type": "stream",
          "name": "stdout",
          "text": [
            "\n",
            "Testina in posizione: ( 0 , 0 )\n",
            "Stato griglia INIZIALE passo n.  0  :\n",
            " [[0 2 2]\n",
            " [2 1 3]\n",
            " [2 2 1]]\n",
            "==============\n",
            "\n",
            "Azione:  Directions.DOWN\n",
            "Testina in posizione: ( 1 , 0 )\n",
            "Stato griglia passo n.  1  :\n",
            " [[0 2 2]\n",
            " [2 1 3]\n",
            " [2 2 1]]\n",
            "==============\n",
            "\n",
            "Azione:  Directions.RIGHT\n",
            "Testina in posizione: ( 1 , 1 )\n",
            "Stato griglia passo n.  2  :\n",
            " [[0 2 2]\n",
            " [2 1 3]\n",
            " [2 2 1]]\n",
            "==============\n",
            "\n",
            "Azione:  Colors.YELLOW\n",
            "Testina in posizione: ( 1 , 1 )\n",
            "Stato griglia passo n.  3  :\n",
            " [[0 2 2]\n",
            " [2 2 3]\n",
            " [2 2 1]]\n",
            "==============\n",
            "\n",
            "Azione:  Directions.RIGHT\n",
            "Testina in posizione: ( 1 , 2 )\n",
            "Stato griglia passo n.  4  :\n",
            " [[0 2 2]\n",
            " [2 2 3]\n",
            " [2 2 1]]\n",
            "==============\n",
            "\n",
            "Azione:  Colors.YELLOW\n",
            "Testina in posizione: ( 1 , 2 )\n",
            "Stato griglia passo n.  5  :\n",
            " [[0 2 2]\n",
            " [2 2 2]\n",
            " [2 2 1]]\n",
            "==============\n",
            "\n",
            "Azione:  Directions.DOWN\n",
            "Testina in posizione: ( 2 , 2 )\n",
            "Stato griglia passo n.  6  :\n",
            " [[0 2 2]\n",
            " [2 2 2]\n",
            " [2 2 1]]\n",
            "==============\n",
            "\n",
            "Azione:  Colors.YELLOW\n",
            "Testina in posizione: ( 2 , 2 )\n",
            "Stato griglia passo n.  7  :\n",
            " [[0 2 2]\n",
            " [2 2 2]\n",
            " [2 2 2]]\n",
            "==============\n",
            "\n",
            "Azione:  Directions.UP\n",
            "Testina in posizione: ( 1 , 2 )\n",
            "Stato griglia passo n.  8  :\n",
            " [[0 2 2]\n",
            " [2 2 2]\n",
            " [2 2 2]]\n",
            "==============\n",
            "\n",
            "Azione:  Directions.LEFT\n",
            "Testina in posizione: ( 1 , 1 )\n",
            "Stato griglia passo n.  9  :\n",
            " [[0 2 2]\n",
            " [2 2 2]\n",
            " [2 2 2]]\n",
            "==============\n",
            "\n",
            "Azione:  Directions.UP\n",
            "Testina in posizione: ( 0 , 1 )\n",
            "Stato griglia passo n.  10  :\n",
            " [[0 2 2]\n",
            " [2 2 2]\n",
            " [2 2 2]]\n",
            "==============\n",
            "\n",
            "Azione:  Directions.LEFT\n",
            "Testina in posizione: ( 0 , 0 )\n",
            "Stato griglia FINALE passo n.  11  :\n",
            " [[0 2 2]\n",
            " [2 2 2]\n",
            " [2 2 2]]\n"
          ]
        }
      ]
    },
    {
      "cell_type": "markdown",
      "source": [
        "# **Riconoscimento Tabella**"
      ],
      "metadata": {
        "id": "X1_GgO5C3KuJ"
      }
    },
    {
      "cell_type": "markdown",
      "source": [
        "Caricamento Immagine"
      ],
      "metadata": {
        "id": "KDlku6y7_kPa"
      }
    },
    {
      "cell_type": "code",
      "source": [
        "import cv2\n",
        "import pandas as pd\n",
        "import csv\n",
        "try:\n",
        "    from PIL import Image\n",
        "except ImportError:\n",
        "    import Image\n",
        "import pytesseract\n",
        "\n",
        "#read your file\n",
        "file=r'/content/drive/MyDrive/Università/Intelligenza Artificiale/Progetto/prova2.jpg'\n",
        "img = cv2.imread(file,0)\n",
        "img.shape\n",
        "#thresholding the image to a binary image\n",
        "thresh,img_bin = cv2.threshold(img,128,255,cv2.THRESH_BINARY |cv2.THRESH_OTSU)\n",
        "#inverting the image \n",
        "img_bin = 255-img_bin\n",
        "cv2.imwrite('/content/drive/MyDrive/Università/Intelligenza Artificiale/Progetto/prova2_inverted.jpg',img_bin)\n",
        "#Plotting the image to see the output\n",
        "plotting = plt.imshow(img_bin,cmap='gray')\n",
        "plt.show()"
      ],
      "metadata": {
        "colab": {
          "base_uri": "https://localhost:8080/",
          "height": 101
        },
        "id": "TRdp5qiR3Loi",
        "outputId": "c3bb169d-3aa8-451d-b4a0-4abcdde91596"
      },
      "execution_count": null,
      "outputs": [
        {
          "output_type": "display_data",
          "data": {
            "text/plain": [
              "<Figure size 432x288 with 1 Axes>"
            ],
            "image/png": "[encoded data removed]"
          },
          "metadata": {
            "needs_background": "light"
          }
        }
      ]
    },
    {
      "cell_type": "code",
      "source": [
        "# Length(width) of kernel as 100th of total width\n",
        "kernel_len = np.array(img).shape[1]//80\n",
        "# Defining a vertical kernel to detect all vertical lines of image \n",
        "ver_kernel = cv2.getStructuringElement(cv2.MORPH_RECT, (1, kernel_len))\n",
        "# Defining a horizontal kernel to detect all horizontal lines of image\n",
        "hor_kernel = cv2.getStructuringElement(cv2.MORPH_RECT, (kernel_len, 1))\n",
        "# A kernel of 2x2\n",
        "kernel = cv2.getStructuringElement(cv2.MORPH_RECT, (2, 2))\n",
        "#Use vertical kernel to detect and save the vertical lines in a jpg\n",
        "image_1 = cv2.erode(img_bin, ver_kernel, iterations=3)\n",
        "vertical_lines = cv2.dilate(image_1, ver_kernel, iterations=4)\n",
        "cv2.imwrite(\"vertical.jpg\",vertical_lines)\n",
        "#Plot the generated image\n",
        "plotting = plt.imshow(image_1,cmap='gray')\n",
        "plt.show()\n",
        "\n",
        "#Use horizontal kernel to detect and save the horizontal lines in a jpg\n",
        "image_2 = cv2.erode(img_bin, hor_kernel, iterations=3)\n",
        "horizontal_lines = cv2.dilate(image_2, hor_kernel, iterations=3)\n",
        "cv2.imwrite(\"horizontal.jpg\",horizontal_lines)\n",
        "#Plot the generated image\n",
        "plotting = plt.imshow(image_2,cmap='gray')\n",
        "plt.show()\n",
        "\n",
        "# Combine horizontal and vertical lines in a new third image, with both having same weight.\n",
        "img_vh = cv2.addWeighted(vertical_lines, 0.5, horizontal_lines, 0.5, 0.0)\n",
        "#Eroding and thesholding the image\n",
        "img_vh = cv2.erode(~img_vh, kernel, iterations=2)\n",
        "#plotting = plt.imshow(img_vh,cmap='gray')\n",
        "#plt.show()\n",
        "thresh, img_vh = cv2.threshold(img_vh,128,255, cv2.THRESH_BINARY | cv2.THRESH_OTSU)\n",
        "cv2.imwrite(\"img_vh.jpg\", img_vh)\n",
        "bitxor = cv2.bitwise_xor(img,img_vh)\n",
        "bitnot = cv2.bitwise_not(bitxor)\n",
        "#Plotting the generated image\n",
        "plotting = plt.imshow(bitnot,cmap='gray')\n",
        "plt.show()"
      ],
      "metadata": {
        "colab": {
          "base_uri": "https://localhost:8080/",
          "height": 269
        },
        "id": "UnHpF3L76M3a",
        "outputId": "b6b478bc-cfeb-4449-cbe5-a88ab73004df"
      },
      "execution_count": null,
      "outputs": [
        {
          "output_type": "display_data",
          "data": {
            "text/plain": [
              "<Figure size 432x288 with 1 Axes>"
            ],
            "image/png": "[encoded data removed]"
          },
          "metadata": {
            "needs_background": "light"
          }
        },
        {
          "output_type": "display_data",
          "data": {
            "text/plain": [
              "<Figure size 432x288 with 1 Axes>"
            ],
            "image/png": "[encoded data removed]"
          },
          "metadata": {
            "needs_background": "light"
          }
        },
        {
          "output_type": "display_data",
          "data": {
            "text/plain": [
              "<Figure size 432x288 with 1 Axes>"
            ],
            "image/png": "[encoded data removed]"
          },
          "metadata": {
            "needs_background": "light"
          }
        }
      ]
    },
    {
      "cell_type": "code",
      "source": [
        "# Detect contours for following box detection\n",
        "contours, hierarchy = cv2.findContours(img_vh, cv2.RETR_TREE, cv2.CHAIN_APPROX_SIMPLE)\n",
        "def sort_contours(cnts, method=\"left-to-right\"):\n",
        "    # initialize the reverse flag and sort index\n",
        "    reverse = False\n",
        "    i = 0\n",
        "    # handle if we need to sort in reverse\n",
        "    if method == \"right-to-left\" or method == \"bottom-to-top\":\n",
        "      reverse = True\n",
        "    # handle if we are sorting against the y-coordinate rather than\n",
        "    # the x-coordinate of the bounding box\n",
        "    if method == \"top-to-bottom\" or method == \"bottom-to-top\":\n",
        "      i = 1\n",
        "    # construct the list of bounding boxes and sort them from top to\n",
        "    # bottom\n",
        "    boundingBoxes = [cv2.boundingRect(c) for c in cnts]\n",
        "    (cnts, boundingBoxes) = zip(*sorted(zip(cnts, boundingBoxes), key=lambda b:b[1][i], reverse=reverse))\n",
        "    # return the list of sorted contours and bounding boxes\n",
        "    return (cnts, boundingBoxes)\n",
        "\n",
        "# Sort all the contours by top to bottom.\n",
        "contours, boundingBoxes = sort_contours(contours, method=\"top-to-bottom\")\n",
        "\n",
        "#Creating a list of heights for all detected boxes\n",
        "heights = [boundingBoxes[i][3] for i in range(len(boundingBoxes))]\n",
        "#Get mean of heights\n",
        "mean = np.mean(heights)\n",
        "\n",
        "#Create list box to store all boxes in  \n",
        "box = []\n",
        "# Get position (x,y), width and height for every contour and show the contour on image\n",
        "for c in contours:\n",
        "    x, y, w, h = cv2.boundingRect(c)\n",
        "    if (w<2 and h<2):\n",
        "        image = cv2.rectangle(img,(x,y),(x+w,y+h),(0,255,0),2)\n",
        "        box.append([x,y,w,h])\n",
        "plotting = plt.imshow(image,cmap=\"gray\")\n",
        "plt.show()"
      ],
      "metadata": {
        "colab": {
          "base_uri": "https://localhost:8080/",
          "height": 101
        },
        "id": "gk3yOdZ16TwU",
        "outputId": "ef43cec1-62a0-44f7-ec70-2394bfaafc52"
      },
      "execution_count": null,
      "outputs": [
        {
          "output_type": "display_data",
          "data": {
            "text/plain": [
              "<Figure size 432x288 with 1 Axes>"
            ],
            "image/png": "[encoded data removed]"
          },
          "metadata": {
            "needs_background": "light"
          }
        }
      ]
    }
  ]
}